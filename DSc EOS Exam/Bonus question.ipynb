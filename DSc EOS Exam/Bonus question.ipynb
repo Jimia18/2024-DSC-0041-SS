{
 "cells": [
  {
   "cell_type": "markdown",
   "id": "122c2c33-d32a-4f4c-8646-908897847d24",
   "metadata": {},
   "source": [
    "## (a) Multiply a 5x3 matrix by a 3x2 matrix (real matrix product) (Hint: create a 5x3 and 3x2 matrices and peform matrix multiplication)."
   ]
  },
  {
   "cell_type": "code",
   "execution_count": 1,
   "id": "f1ca3dbc-efeb-4bb3-ac3b-14f748819957",
   "metadata": {},
   "outputs": [
    {
     "name": "stdout",
     "output_type": "stream",
     "text": [
      "[[0.56245373 0.38037932]\n",
      " [0.79562061 0.5182438 ]\n",
      " [1.20818244 0.77895126]\n",
      " [1.02445183 0.77758523]\n",
      " [1.27554857 1.06667774]]\n"
     ]
    }
   ],
   "source": [
    "\n",
    "import numpy as np\n",
    "matrix1 = np.random.rand(5, 3)# Create random matrices\n",
    "matrix2 = np.random.rand(3, 2)\n",
    "result = np.dot(matrix1, matrix2)# Perform matrix multiplication\n",
    "print(result)# Or matrix1 @ matrix2\n"
   ]
  },
  {
   "cell_type": "markdown",
   "id": "075099f6-cfd9-440c-9e11-afcba5b458cd",
   "metadata": {},
   "source": [
    "## (b) Create a 3x3 identity matrix"
   ]
  },
  {
   "cell_type": "code",
   "execution_count": 2,
   "id": "63beb5ac-9768-4495-8222-0cab58e376dc",
   "metadata": {},
   "outputs": [
    {
     "name": "stdout",
     "output_type": "stream",
     "text": [
      "[[1. 0. 0.]\n",
      " [0. 1. 0.]\n",
      " [0. 0. 1.]]\n"
     ]
    }
   ],
   "source": [
    "matrix4 = np.eye(3,3)\n",
    "print(matrix4)"
   ]
  },
  {
   "cell_type": "markdown",
   "id": "76d8d383-70a8-4eac-9c9a-623439345c19",
   "metadata": {},
   "source": [
    "## (c) Create a vector with values ranging from 10 to 49)."
   ]
  },
  {
   "cell_type": "code",
   "execution_count": 3,
   "id": "990140a8-1d7f-4692-9a96-dfab78edaf0c",
   "metadata": {},
   "outputs": [
    {
     "name": "stdout",
     "output_type": "stream",
     "text": [
      "[10 11 12 13 14 15 16 17 18 19 20 21 22 23 24 25 26 27 28 29 30 31 32 33\n",
      " 34 35 36 37 38 39 40 41 42 43 44 45 46 47 48]\n"
     ]
    }
   ],
   "source": [
    "vector = np.arange(10,49)\n",
    "print(vector)"
   ]
  },
  {
   "cell_type": "markdown",
   "id": "e9c3f848-b6e8-4ccb-9e7d-e599304f4796",
   "metadata": {},
   "source": [
    "## (d) Create a null vector of size 10."
   ]
  },
  {
   "cell_type": "code",
   "execution_count": 4,
   "id": "17645af7-ea89-4e19-8a50-3f602d9cc063",
   "metadata": {},
   "outputs": [
    {
     "name": "stdout",
     "output_type": "stream",
     "text": [
      "[0. 0. 0. 0. 0. 0. 0. 0. 0. 0.]\n"
     ]
    }
   ],
   "source": [
    "nullVector = np.zeros(10)\n",
    "print(nullVector)"
   ]
  },
  {
   "cell_type": "markdown",
   "id": "b4d1a219-9e69-4850-bd80-5ee618cd2ea0",
   "metadata": {},
   "source": [
    "## (e) Create a 3x3x3 array with random values"
   ]
  },
  {
   "cell_type": "code",
   "execution_count": 5,
   "id": "d7ef2847-f969-40ae-9923-c536d1a13fcf",
   "metadata": {},
   "outputs": [
    {
     "name": "stdout",
     "output_type": "stream",
     "text": [
      "[[[0.96213187 0.9590523  0.13635561]\n",
      "  [0.7729774  0.37199774 0.81647528]\n",
      "  [0.79922935 0.22937079 0.19994357]]\n",
      "\n",
      " [[0.82177859 0.57509867 0.25321125]\n",
      "  [0.50629943 0.65943534 0.90463921]\n",
      "  [0.6095671  0.84144727 0.20134978]]\n",
      "\n",
      " [[0.37492612 0.49171047 0.97704519]\n",
      "  [0.42366723 0.69248576 0.51048398]\n",
      "  [0.5125477  0.96462493 0.44377765]]]\n"
     ]
    }
   ],
   "source": [
    "matrix5 = np.random.rand(3,3,3)\n",
    "print(matrix5)"
   ]
  },
  {
   "cell_type": "markdown",
   "id": "2dc625c4-7668-4217-9931-9b050d12b1aa",
   "metadata": {},
   "source": [
    "## (f) Create a 5x5 matrix with values 1,2,3,4 just below the diagonal"
   ]
  },
  {
   "cell_type": "code",
   "execution_count": 6,
   "id": "652ee788-5763-4386-a34a-b21a7011c57b",
   "metadata": {},
   "outputs": [
    {
     "name": "stdout",
     "output_type": "stream",
     "text": [
      "[[0 0 0 0 0]\n",
      " [1 0 0 0 0]\n",
      " [0 2 0 0 0]\n",
      " [0 0 3 0 0]\n",
      " [0 0 0 4 0]]\n"
     ]
    }
   ],
   "source": [
    "diagonal_matrix = np.diag([1, 2, 3, 4], k=-1)\n",
    "print(diagonal_matrix)"
   ]
  },
  {
   "cell_type": "markdown",
   "id": "35771308-23b0-4749-b334-85a370e9762e",
   "metadata": {},
   "source": [
    "## (g) Normalize a 5x5 random matrix"
   ]
  },
  {
   "cell_type": "code",
   "execution_count": 8,
   "id": "ace0ff58-b3d7-48b9-90f2-75ede0b47f85",
   "metadata": {},
   "outputs": [
    {
     "name": "stdout",
     "output_type": "stream",
     "text": [
      "[[[-0.1561977   1.22721971 -0.93212787  1.51169326 -1.48074079]\n",
      "  [ 0.51448809 -0.94563298 -1.23274914 -0.8411085  -0.17841771]\n",
      "  [ 0.65620591 -0.33892084 -1.15070301  1.33158787  1.7060718 ]\n",
      "  [ 1.23117161  1.15407016  0.13697834  1.3926563  -1.40288721]\n",
      "  [ 0.83700595  0.58331159 -0.04127799  1.0123551   1.58766479]]\n",
      "\n",
      " [[-0.92441795 -1.46277582 -0.72839931  1.39112578  0.9156536 ]\n",
      "  [-0.91395086  1.18756969 -0.355201   -0.14669429 -0.72137103]\n",
      "  [-1.04804845 -0.22590751 -1.09697426 -1.46015362  0.1025932 ]\n",
      "  [-1.27842995  1.26411592  1.11972349 -1.43707566 -0.67278943]\n",
      "  [ 1.68213224 -1.45930973 -0.84265163  0.95019706 -1.42975989]]\n",
      "\n",
      " [[ 0.52175444 -0.71545483  1.4145077   1.15441869  1.04194013]\n",
      "  [-0.18211395 -0.22127862 -0.96425912 -0.7432044  -1.68886039]\n",
      "  [ 1.5422495  -0.64889381 -1.37614205 -1.11497859  1.6765341 ]\n",
      "  [-0.80188155  0.76295099  0.30849082 -1.29671531  0.20126802]\n",
      "  [ 0.16233739 -0.25194431  0.86368876 -0.15172057  1.39928806]]\n",
      "\n",
      " [[-0.86232436 -0.49764817 -1.67154747 -0.5878456  -1.18157057]\n",
      "  [-0.64240944  0.3491016   1.7092908   1.00402621 -0.67425706]\n",
      "  [ 0.38612951 -0.30921884  1.45846871  1.1341781   0.70693247]\n",
      "  [-0.59942476 -1.56303465  0.32833679  0.86438432 -1.3541741 ]\n",
      "  [ 1.06769203 -0.12439033  0.23569269 -1.57216755  0.84784446]]\n",
      "\n",
      " [[ 0.57359644  1.26538766  0.2253131  -0.09252164  0.21317154]\n",
      "  [ 1.50342057  0.76041816 -0.26361959 -0.3586502   0.51743395]\n",
      "  [ 1.61634606  0.80046559 -0.42072275 -1.01887501 -0.48510411]\n",
      "  [ 0.40441833 -0.84632429  0.13123251 -1.30376693 -0.75770693]\n",
      "  [ 0.25488459  0.64632207 -1.64590854  1.23906048 -0.89323426]]]\n"
     ]
    }
   ],
   "source": [
    "matrix5 = np.random.rand(5,5,5)\n",
    "normalized_matrix = (matrix5- matrix5.mean()) / matrix5.std() #subtract the mean and divide by the std\n",
    "print(normalized_matrix)\n"
   ]
  },
  {
   "cell_type": "markdown",
   "id": "1bc34a63-8113-4c5f-b7eb-519d29c05c3d",
   "metadata": {},
   "source": [
    "## (h) How to get the dates of yesterday, today and tomorrow?"
   ]
  },
  {
   "cell_type": "code",
   "execution_count": 15,
   "id": "09229f05-0733-40db-8690-6bb2efe93a86",
   "metadata": {},
   "outputs": [
    {
     "name": "stdout",
     "output_type": "stream",
     "text": [
      "2024-12-09\n",
      "2024-12-10\n",
      "2024-12-11\n"
     ]
    }
   ],
   "source": [
    "today = np.datetime64('today', 'D')\n",
    "yesterday = today - np.timedelta64(1, 'D')\n",
    "tomorrow = today + np.timedelta64(1, 'D')\n",
    "print(yesterday)\n",
    "print(today)\n",
    "print(tomorrow)"
   ]
  },
  {
   "cell_type": "markdown",
   "id": "b3447501-70c4-447e-b2fe-c50fd411047b",
   "metadata": {},
   "source": [
    "## (i) Find indices of non-zero elements from [1,2,0,0,4,0]. In all the above questions explain your approach."
   ]
  },
  {
   "cell_type": "code",
   "execution_count": 16,
   "id": "f88490e2-05e0-4e38-a26b-3180eb4d879f",
   "metadata": {},
   "outputs": [
    {
     "name": "stdout",
     "output_type": "stream",
     "text": [
      "[0 1 4]\n"
     ]
    }
   ],
   "source": [
    "array = np.array([1, 2, 0, 0, 4, 0])\n",
    "non_zero_elements = np.nonzero(array)[0] # helps to find the indices of non-zero elements\n",
    "print(non_zero_elements)\n"
   ]
  },
  {
   "cell_type": "code",
   "execution_count": null,
   "id": "c45ed7ff-9fa4-4672-9527-566cc0a6a537",
   "metadata": {},
   "outputs": [],
   "source": []
  }
 ],
 "metadata": {
  "kernelspec": {
   "display_name": "Python 3 (ipykernel)",
   "language": "python",
   "name": "python3"
  },
  "language_info": {
   "codemirror_mode": {
    "name": "ipython",
    "version": 3
   },
   "file_extension": ".py",
   "mimetype": "text/x-python",
   "name": "python",
   "nbconvert_exporter": "python",
   "pygments_lexer": "ipython3",
   "version": "3.13.1"
  }
 },
 "nbformat": 4,
 "nbformat_minor": 5
}
